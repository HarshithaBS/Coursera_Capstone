#This notebook is mainly for Capstone Project
import pandas as pd
print('Hello Capstone course!')
